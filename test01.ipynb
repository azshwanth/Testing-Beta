{
  "nbformat": 4,
  "nbformat_minor": 0,
  "metadata": {
    "colab": {
      "name": "test01.ipynb",
      "provenance": [],
      "collapsed_sections": []
    },
    "kernelspec": {
      "name": "python3",
      "display_name": "Python 3"
    },
    "language_info": {
      "name": "python"
    }
  },
  "cells": [
    {
      "cell_type": "markdown",
      "metadata": {
        "id": "L9nLv7CuFuoz"
      },
      "source": [
        "PGET Interview"
      ]
    },
    {
      "cell_type": "code",
      "metadata": {
        "id": "FXXCUuvoHcRK",
        "colab": {
          "base_uri": "https://localhost:8080/"
        },
        "outputId": "254c6270-9d0e-4bb8-d9a9-63d519a9d6a0"
      },
      "source": [
        "print(\"hi\")"
      ],
      "execution_count": 1,
      "outputs": [
        {
          "output_type": "stream",
          "name": "stdout",
          "text": [
            "hi\n"
          ]
        }
      ]
    },
    {
      "cell_type": "code",
      "source": [
        ""
      ],
      "metadata": {
        "id": "X8UJJZAK_-GR"
      },
      "execution_count": null,
      "outputs": []
    }
  ]
}